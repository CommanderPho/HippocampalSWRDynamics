{
 "cells": [
  {
   "cell_type": "markdown",
   "metadata": {},
   "source": [
    "# Figure S4"
   ]
  },
  {
   "cell_type": "code",
   "execution_count": 1,
   "metadata": {},
   "outputs": [],
   "source": [
    "import numpy as np\n",
    "import os\n",
    "import matplotlib.pyplot as plt\n",
    "import matplotlib\n",
    "import pandas as pd\n",
    "\n",
    "import replay_structure.structure_models as models\n",
    "import replay_structure.metadata as meta\n",
    "import replay_structure.read_write as read_write\n",
    "\n",
    "import importlib"
   ]
  },
  {
   "cell_type": "code",
   "execution_count": 2,
   "metadata": {},
   "outputs": [],
   "source": [
    "SMALL_SIZE = 5\n",
    "MEDIUM_SIZE = 6\n",
    "BIGGER_SIZE = 7\n",
    "\n",
    "plt.rc('font', size=SMALL_SIZE)          # controls default text sizes\n",
    "plt.rc('axes', titlesize=SMALL_SIZE)     # fontsize of the axes title\n",
    "plt.rc('axes', labelsize=MEDIUM_SIZE)    # fontsize of the x and y labels\n",
    "plt.rc('xtick', labelsize=SMALL_SIZE)    # fontsize of the tick labels\n",
    "plt.rc('ytick', labelsize=SMALL_SIZE)    # fontsize of the tick labels\n",
    "plt.rc('legend', fontsize=MEDIUM_SIZE)    # legend fontsize\n",
    "plt.rc('figure', titlesize=BIGGER_SIZE)  # fontsize of the figure title"
   ]
  },
  {
   "cell_type": "code",
   "execution_count": 3,
   "metadata": {},
   "outputs": [
    {
     "name": "stdout",
     "output_type": "stream",
     "text": [
      "loading  /Users/emmakrause/Documents/PhD/Lab/replay_structure/data_final/run_snippets/rat1day1_4cm_60ms.obj\n",
      "loading  /Users/emmakrause/Documents/PhD/Lab/replay_structure/results_final/run_snippets/rat1day1_4cm_60ms_poisson_trajectories_74.obj\n",
      "loading  /Users/emmakrause/Documents/PhD/Lab/replay_structure/data_final/run_snippets/rat1day2_4cm_60ms.obj\n",
      "loading  /Users/emmakrause/Documents/PhD/Lab/replay_structure/results_final/run_snippets/rat1day2_4cm_60ms_poisson_trajectories_74.obj\n",
      "loading  /Users/emmakrause/Documents/PhD/Lab/replay_structure/data_final/run_snippets/rat2day1_4cm_60ms.obj\n",
      "loading  /Users/emmakrause/Documents/PhD/Lab/replay_structure/results_final/run_snippets/rat2day1_4cm_60ms_poisson_trajectories_74.obj\n",
      "loading  /Users/emmakrause/Documents/PhD/Lab/replay_structure/data_final/run_snippets/rat2day2_4cm_60ms.obj\n",
      "loading  /Users/emmakrause/Documents/PhD/Lab/replay_structure/results_final/run_snippets/rat2day2_4cm_60ms_poisson_trajectories_74.obj\n",
      "loading  /Users/emmakrause/Documents/PhD/Lab/replay_structure/data_final/run_snippets/rat3day1_4cm_60ms.obj\n",
      "loading  /Users/emmakrause/Documents/PhD/Lab/replay_structure/results_final/run_snippets/rat3day1_4cm_60ms_poisson_trajectories_74.obj\n",
      "loading  /Users/emmakrause/Documents/PhD/Lab/replay_structure/data_final/run_snippets/rat3day2_4cm_60ms.obj\n",
      "loading  /Users/emmakrause/Documents/PhD/Lab/replay_structure/results_final/run_snippets/rat3day2_4cm_60ms_poisson_trajectories_74.obj\n",
      "loading  /Users/emmakrause/Documents/PhD/Lab/replay_structure/data_final/run_snippets/rat4day1_4cm_60ms.obj\n",
      "loading  /Users/emmakrause/Documents/PhD/Lab/replay_structure/results_final/run_snippets/rat4day1_4cm_60ms_poisson_trajectories_74.obj\n",
      "loading  /Users/emmakrause/Documents/PhD/Lab/replay_structure/data_final/run_snippets/rat4day2_4cm_60ms.obj\n",
      "loading  /Users/emmakrause/Documents/PhD/Lab/replay_structure/results_final/run_snippets/rat4day2_4cm_60ms_poisson_trajectories_74.obj\n"
     ]
    }
   ],
   "source": [
    "run_snippet_data_60ms = dict()\n",
    "run_snippet_trajectories = dict()\n",
    "for session in meta.Session_List:\n",
    "    run_snippet_data_60ms[str(session)] = read_write.load_spikemat_data(session, meta.Run_Snippet_Data.default_time_window_ms, meta.Run_Snippet_Data.name, ext=\"\")\n",
    "    run_snippet_trajectories[str(session)] = read_write.load_trajectory_results(session, meta.Run_Snippet_Data.default_time_window_ms, meta.Run_Snippet_Data.name,meta.Run_Snippet_Data.default_likelihood_function, ext=\"_74\")"
   ]
  },
  {
   "cell_type": "code",
   "execution_count": 4,
   "metadata": {},
   "outputs": [],
   "source": [
    "viterbi_aligned_to_pos_rec = dict()\n",
    "\n",
    "for session in meta.Session_List:\n",
    "    viterbi_aligned_to_pos_rec[str(session)] = dict()\n",
    "    for i in range(len(run_snippet_data_60ms[str(session)].run_info['true_trajectories_cm'])):\n",
    "        if run_snippet_data_60ms[str(session)].run_info['true_trajectories_cm'][i] is not None:\n",
    "            pos_t = np.arange(len(run_snippet_data_60ms[str(session)].run_info['true_trajectories_cm'][i])) * (1000/30)\n",
    "            viterbi_t = np.arange(len(run_snippet_trajectories[str(session)].most_likely_trajectories[i])) * 60\n",
    "            viterbi_ind = np.zeros(len(run_snippet_data_60ms[str(session)].run_info['true_trajectories_cm'][i]))\n",
    "            for j, t in enumerate(pos_t):\n",
    "                viterbi_ind[j] = np.argmin(np.abs(viterbi_t - t))\n",
    "            viterbi_aligned_to_pos_rec[str(session)][i] = run_snippet_trajectories[str(session)].most_likely_trajectories[i][viterbi_ind.astype(int)]\n",
    "        else:\n",
    "            viterbi_aligned_to_pos_rec[str(session)][i] = None"
   ]
  },
  {
   "cell_type": "code",
   "execution_count": 5,
   "metadata": {},
   "outputs": [],
   "source": [
    "errors = dict()\n",
    "n_notnone = dict()\n",
    "for session in meta.Session_List:\n",
    "    errors[str(session)] = np.array([])\n",
    "    n_notnone[str(session)] = 0\n",
    "    for i in range(len(viterbi_aligned_to_pos_rec[str(session)])):\n",
    "        if viterbi_aligned_to_pos_rec[str(session)][i] is not None:\n",
    "            errors[str(session)] = np.append(errors[str(session)], np.sqrt(np.sum((viterbi_aligned_to_pos_rec[str(session)][i] - run_snippet_data_60ms[str(session)].run_info['true_trajectories_cm'][i])**2, axis=1)))\n",
    "            n_notnone[str(session)] += 1"
   ]
  },
  {
   "cell_type": "code",
   "execution_count": 7,
   "metadata": {},
   "outputs": [
    {
     "data": {
      "image/png": "[encoded data removed]",
      "text/plain": [
       "<Figure size 400x400 with 1 Axes>"
      ]
     },
     "metadata": {
      "needs_background": "light"
     },
     "output_type": "display_data"
    }
   ],
   "source": [
    "fig, ax = plt.subplots(1, 1, figsize=(2,2), dpi=200)\n",
    "plt.subplots_adjust(left=.25, bottom = .2)\n",
    "for session in meta.Session_List:\n",
    "    ax.plot(np.sort(errors[str(session)]), np.arange(len(errors[str(session)]))/len(errors[str(session)]), color='dimgray', alpha=.8, linewidth=.5)\n",
    "ax.set_xlim([0,100])\n",
    "ax.set_ylabel('Cumulative fraction run snippets')\n",
    "ax.set_xlabel('Position error (cm)')\n",
    "ax.spines[\"top\"].set_visible(False)\n",
    "ax.spines[\"right\"].set_visible(False)\n",
    "ax.set_ylim([0,1])\n",
    "\n",
    "plt.savefig(os.path.join(meta.FIGURES_PATH, \"FigureS4.svg\"), dpi=500, transparent=True)\n",
    "\n",
    "rect = plt.Rectangle(\n",
    "    # (lower-left corner), width, height\n",
    "    (0, 0), 1, 1, fill=False, color=\"k\", lw=.5, alpha=.2,\n",
    "    zorder=1000, transform=fig.transFigure, figure=fig\n",
    ")\n",
    "fig.patches.extend([rect])\n",
    "\n",
    "plt.show()"
   ]
  },
  {
   "cell_type": "code",
   "execution_count": null,
   "metadata": {},
   "outputs": [],
   "source": []
  }
 ],
 "metadata": {
  "kernelspec": {
   "display_name": "replay_structure_kernel",
   "language": "python",
   "name": "replay_structure_kernel"
  },
  "language_info": {
   "codemirror_mode": {
    "name": "ipython",
    "version": 3
   },
   "file_extension": ".py",
   "mimetype": "text/x-python",
   "name": "python",
   "nbconvert_exporter": "python",
   "pygments_lexer": "ipython3",
   "version": "3.8.2"
  }
 },
 "nbformat": 4,
 "nbformat_minor": 4
}

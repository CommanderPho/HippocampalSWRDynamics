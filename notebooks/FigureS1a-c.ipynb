{
 "cells": [
  {
   "cell_type": "markdown",
   "metadata": {},
   "source": [
    "# Figure S1a-c"
   ]
  },
  {
   "cell_type": "code",
   "execution_count": 1,
   "metadata": {},
   "outputs": [],
   "source": [
    "import numpy as np\n",
    "import os\n",
    "import matplotlib.pyplot as plt\n",
    "import matplotlib\n",
    "import pandas as pd\n",
    "\n",
    "import replay_structure.structure_models as models\n",
    "import replay_structure.metadata as meta \n",
    "import replay_structure.read_write as read_write\n",
    "\n",
    "import importlib"
   ]
  },
  {
   "cell_type": "code",
   "execution_count": 2,
   "metadata": {},
   "outputs": [],
   "source": [
    "SMALL_SIZE = 5\n",
    "MEDIUM_SIZE = 6\n",
    "BIGGER_SIZE = 7\n",
    "\n",
    "plt.rc('font', size=SMALL_SIZE)          # controls default text sizes\n",
    "plt.rc('axes', titlesize=SMALL_SIZE)     # fontsize of the axes title\n",
    "plt.rc('axes', labelsize=MEDIUM_SIZE)    # fontsize of the x and y labels\n",
    "plt.rc('xtick', labelsize=SMALL_SIZE)    # fontsize of the tick labels\n",
    "plt.rc('ytick', labelsize=SMALL_SIZE)    # fontsize of the tick labels\n",
    "plt.rc('legend', fontsize=MEDIUM_SIZE)    # legend fontsize\n",
    "plt.rc('figure', titlesize=BIGGER_SIZE)  # fontsize of the figure title"
   ]
  },
  {
   "cell_type": "code",
   "execution_count": 3,
   "metadata": {},
   "outputs": [
    {
     "name": "stdout",
     "output_type": "stream",
     "text": [
      "loading  /Users/emmakrause/Documents/PhD/Lab/replay_structure/data_final/ripples/rat1day1_4cm_3ms.obj\n",
      "loading  /Users/emmakrause/Documents/PhD/Lab/replay_structure/data_final/ripples/rat1day2_4cm_3ms.obj\n",
      "loading  /Users/emmakrause/Documents/PhD/Lab/replay_structure/data_final/ripples/rat2day1_4cm_3ms.obj\n",
      "loading  /Users/emmakrause/Documents/PhD/Lab/replay_structure/data_final/ripples/rat2day2_4cm_3ms.obj\n",
      "loading  /Users/emmakrause/Documents/PhD/Lab/replay_structure/data_final/ripples/rat3day1_4cm_3ms.obj\n",
      "loading  /Users/emmakrause/Documents/PhD/Lab/replay_structure/data_final/ripples/rat3day2_4cm_3ms.obj\n",
      "loading  /Users/emmakrause/Documents/PhD/Lab/replay_structure/data_final/ripples/rat4day1_4cm_3ms.obj\n",
      "loading  /Users/emmakrause/Documents/PhD/Lab/replay_structure/data_final/ripples/rat4day2_4cm_3ms.obj\n"
     ]
    }
   ],
   "source": [
    "ripple_data = dict()\n",
    "for session in meta.Session_List:\n",
    "    ripple_data[str(session)] =  read_write.load_spikemat_data(session, meta.Ripple_Data.default_time_window_ms, meta.Ripple_Data.name)"
   ]
  },
  {
   "cell_type": "code",
   "execution_count": 4,
   "metadata": {
    "collapsed": true,
    "jupyter": {
     "outputs_hidden": true
    }
   },
   "outputs": [
    {
     "name": "stdout",
     "output_type": "stream",
     "text": [
      "loading  /Users/emmakrause/Documents/PhD/Lab/replay_structure/results_final/ripples/rat1day1_4cm_3ms_poisson_model_comparison.obj\n",
      "loading  /Users/emmakrause/Documents/PhD/Lab/replay_structure/results_final/ripples/rat1day1_4cm_3ms_poisson_model_comparison.obj\n",
      "loading  /Users/emmakrause/Documents/PhD/Lab/replay_structure/results_final/ripples/rat1day2_4cm_3ms_poisson_model_comparison.obj\n",
      "loading  /Users/emmakrause/Documents/PhD/Lab/replay_structure/results_final/ripples/rat1day2_4cm_3ms_poisson_model_comparison.obj\n",
      "loading  /Users/emmakrause/Documents/PhD/Lab/replay_structure/results_final/ripples/rat2day1_4cm_3ms_poisson_model_comparison.obj\n",
      "loading  /Users/emmakrause/Documents/PhD/Lab/replay_structure/results_final/ripples/rat2day1_4cm_3ms_poisson_model_comparison.obj\n",
      "loading  /Users/emmakrause/Documents/PhD/Lab/replay_structure/results_final/ripples/rat2day2_4cm_3ms_poisson_model_comparison.obj\n",
      "loading  /Users/emmakrause/Documents/PhD/Lab/replay_structure/results_final/ripples/rat2day2_4cm_3ms_poisson_model_comparison.obj\n",
      "loading  /Users/emmakrause/Documents/PhD/Lab/replay_structure/results_final/ripples/rat3day1_4cm_3ms_poisson_model_comparison.obj\n",
      "loading  /Users/emmakrause/Documents/PhD/Lab/replay_structure/results_final/ripples/rat3day1_4cm_3ms_poisson_model_comparison.obj\n",
      "loading  /Users/emmakrause/Documents/PhD/Lab/replay_structure/results_final/ripples/rat3day2_4cm_3ms_poisson_model_comparison.obj\n",
      "loading  /Users/emmakrause/Documents/PhD/Lab/replay_structure/results_final/ripples/rat3day2_4cm_3ms_poisson_model_comparison.obj\n",
      "loading  /Users/emmakrause/Documents/PhD/Lab/replay_structure/results_final/ripples/rat4day1_4cm_3ms_poisson_model_comparison.obj\n",
      "loading  /Users/emmakrause/Documents/PhD/Lab/replay_structure/results_final/ripples/rat4day1_4cm_3ms_poisson_model_comparison.obj\n",
      "loading  /Users/emmakrause/Documents/PhD/Lab/replay_structure/results_final/ripples/rat4day2_4cm_3ms_poisson_model_comparison.obj\n",
      "loading  /Users/emmakrause/Documents/PhD/Lab/replay_structure/results_final/ripples/rat4day2_4cm_3ms_poisson_model_comparison.obj\n",
      "loading  /Users/emmakrause/Documents/PhD/Lab/replay_structure/results_final/ripples/rat1day1_4cm_4ms_poisson_model_comparison.obj\n",
      "loading  /Users/emmakrause/Documents/PhD/Lab/replay_structure/results_final/ripples/rat1day1_4cm_4ms_poisson_model_comparison.obj\n",
      "loading  /Users/emmakrause/Documents/PhD/Lab/replay_structure/results_final/ripples/rat1day2_4cm_4ms_poisson_model_comparison.obj\n",
      "loading  /Users/emmakrause/Documents/PhD/Lab/replay_structure/results_final/ripples/rat1day2_4cm_4ms_poisson_model_comparison.obj\n",
      "loading  /Users/emmakrause/Documents/PhD/Lab/replay_structure/results_final/ripples/rat2day1_4cm_4ms_poisson_model_comparison.obj\n",
      "loading  /Users/emmakrause/Documents/PhD/Lab/replay_structure/results_final/ripples/rat2day1_4cm_4ms_poisson_model_comparison.obj\n",
      "loading  /Users/emmakrause/Documents/PhD/Lab/replay_structure/results_final/ripples/rat2day2_4cm_4ms_poisson_model_comparison.obj\n",
      "loading  /Users/emmakrause/Documents/PhD/Lab/replay_structure/results_final/ripples/rat2day2_4cm_4ms_poisson_model_comparison.obj\n",
      "loading  /Users/emmakrause/Documents/PhD/Lab/replay_structure/results_final/ripples/rat3day1_4cm_4ms_poisson_model_comparison.obj\n",
      "loading  /Users/emmakrause/Documents/PhD/Lab/replay_structure/results_final/ripples/rat3day1_4cm_4ms_poisson_model_comparison.obj\n",
      "loading  /Users/emmakrause/Documents/PhD/Lab/replay_structure/results_final/ripples/rat3day2_4cm_4ms_poisson_model_comparison.obj\n",
      "loading  /Users/emmakrause/Documents/PhD/Lab/replay_structure/results_final/ripples/rat3day2_4cm_4ms_poisson_model_comparison.obj\n",
      "loading  /Users/emmakrause/Documents/PhD/Lab/replay_structure/results_final/ripples/rat4day1_4cm_4ms_poisson_model_comparison.obj\n",
      "loading  /Users/emmakrause/Documents/PhD/Lab/replay_structure/results_final/ripples/rat4day1_4cm_4ms_poisson_model_comparison.obj\n",
      "loading  /Users/emmakrause/Documents/PhD/Lab/replay_structure/results_final/ripples/rat4day2_4cm_4ms_poisson_model_comparison.obj\n",
      "loading  /Users/emmakrause/Documents/PhD/Lab/replay_structure/results_final/ripples/rat4day2_4cm_4ms_poisson_model_comparison.obj\n",
      "loading  /Users/emmakrause/Documents/PhD/Lab/replay_structure/results_final/ripples/rat1day1_4cm_5ms_poisson_model_comparison.obj\n",
      "loading  /Users/emmakrause/Documents/PhD/Lab/replay_structure/results_final/ripples/rat1day1_4cm_5ms_poisson_model_comparison.obj\n",
      "loading  /Users/emmakrause/Documents/PhD/Lab/replay_structure/results_final/ripples/rat1day2_4cm_5ms_poisson_model_comparison.obj\n",
      "loading  /Users/emmakrause/Documents/PhD/Lab/replay_structure/results_final/ripples/rat1day2_4cm_5ms_poisson_model_comparison.obj\n",
      "loading  /Users/emmakrause/Documents/PhD/Lab/replay_structure/results_final/ripples/rat2day1_4cm_5ms_poisson_model_comparison.obj\n",
      "loading  /Users/emmakrause/Documents/PhD/Lab/replay_structure/results_final/ripples/rat2day1_4cm_5ms_poisson_model_comparison.obj\n",
      "loading  /Users/emmakrause/Documents/PhD/Lab/replay_structure/results_final/ripples/rat2day2_4cm_5ms_poisson_model_comparison.obj\n",
      "loading  /Users/emmakrause/Documents/PhD/Lab/replay_structure/results_final/ripples/rat2day2_4cm_5ms_poisson_model_comparison.obj\n",
      "loading  /Users/emmakrause/Documents/PhD/Lab/replay_structure/results_final/ripples/rat3day1_4cm_5ms_poisson_model_comparison.obj\n",
      "loading  /Users/emmakrause/Documents/PhD/Lab/replay_structure/results_final/ripples/rat3day1_4cm_5ms_poisson_model_comparison.obj\n",
      "loading  /Users/emmakrause/Documents/PhD/Lab/replay_structure/results_final/ripples/rat3day2_4cm_5ms_poisson_model_comparison.obj\n",
      "loading  /Users/emmakrause/Documents/PhD/Lab/replay_structure/results_final/ripples/rat3day2_4cm_5ms_poisson_model_comparison.obj\n",
      "loading  /Users/emmakrause/Documents/PhD/Lab/replay_structure/results_final/ripples/rat4day1_4cm_5ms_poisson_model_comparison.obj\n",
      "loading  /Users/emmakrause/Documents/PhD/Lab/replay_structure/results_final/ripples/rat4day1_4cm_5ms_poisson_model_comparison.obj\n",
      "loading  /Users/emmakrause/Documents/PhD/Lab/replay_structure/results_final/ripples/rat4day2_4cm_5ms_poisson_model_comparison.obj\n",
      "loading  /Users/emmakrause/Documents/PhD/Lab/replay_structure/results_final/ripples/rat4day2_4cm_5ms_poisson_model_comparison.obj\n"
     ]
    }
   ],
   "source": [
    "time_window_ms_array = [3,4,5]\n",
    "ripple_mc_results = dict()\n",
    "mc_results = dict()\n",
    "random_effects_results = dict()\n",
    "max_ll_results = dict()\n",
    "\n",
    "for time_window_ms in time_window_ms_array:\n",
    "    mc_results[time_window_ms] = dict()\n",
    "    random_effects_results[time_window_ms] = np.zeros((meta.N_SESSIONS, meta.N_MODELS))\n",
    "    ripple_mc_results[time_window_ms] = dict()\n",
    "    max_ll_results[time_window_ms] = np.zeros((meta.N_SESSIONS, meta.N_MODELS))\n",
    "    for i, session in enumerate(meta.Session_List):\n",
    "        mc_results[time_window_ms][str(session)] = read_write.load_model_comparison_results(session, time_window_ms, meta.Ripple_Data.name, meta.Ripple_Data.default_likelihood_function, ext='')\n",
    "        ripple_mc_results[time_window_ms][str(session)] = read_write.load_model_comparison_results(session, time_window_ms, meta.Ripple_Data.name, meta.Ripple_Data.default_likelihood_function, ext='')\n",
    "        random_effects_results[time_window_ms][i] = ripple_mc_results[time_window_ms][str(session)].random_effects_results[\"p_models\"]\n",
    "        max_ll = ripple_mc_results[time_window_ms][str(session)].results_dataframe[\"mll_model\"].value_counts()\n",
    "        for model in meta.MODELS_AS_STR:\n",
    "            if model not in max_ll:\n",
    "                max_ll[model] = 0\n",
    "        max_ll_results[time_window_ms][i] = max_ll[meta.MODELS_AS_STR]/np.sum(max_ll)"
   ]
  },
  {
   "cell_type": "code",
   "execution_count": 5,
   "metadata": {},
   "outputs": [],
   "source": [
    "bayes_factor = np.zeros((meta.N_SESSIONS, meta.N_MODELS))\n",
    "\n",
    "for i, session in enumerate(meta.Session_List):\n",
    "    sum_over_all = mc_results[3][str(session)].results_dataframe[meta.MODELS_AS_STR].sum(axis=0)\n",
    "    sum_over_all_norm = sum_over_all - sum_over_all.max()\n",
    "    sum_over_all_exp = np.exp(sum_over_all_norm)\n",
    "    sum_over_all_exp_norm = sum_over_all_exp/sum_over_all_exp.sum()\n",
    "    bayes_factor[i] = sum_over_all_exp_norm"
   ]
  },
  {
   "cell_type": "code",
   "execution_count": 6,
   "metadata": {},
   "outputs": [],
   "source": [
    "ripple_lengths = dict()\n",
    "for session in meta.Session_List:\n",
    "    ripple_lengths[str(session)] = np.zeros(len(ripple_data[str(session)].ripple_info['spikemats_popburst']))\n",
    "    for ripple in range(len(ripple_data[str(session)].ripple_info['spikemats_popburst'])):\n",
    "        if ripple_data[str(session)].ripple_info['spikemats_popburst'][ripple] is not None:\n",
    "            ripple_lengths[str(session)][ripple] = ripple_data[str(session)].ripple_info['spikemats_popburst'][ripple].shape[0]     "
   ]
  },
  {
   "cell_type": "code",
   "execution_count": 7,
   "metadata": {},
   "outputs": [
    {
     "name": "stderr",
     "output_type": "stream",
     "text": [
      "<ipython-input-7-0ef5bbf5409b>:3: DeprecationWarning: The default dtype for empty Series will be 'object' instead of 'float64' in a future version. Specify a dtype explicitly to silence this warning.\n",
      "  ripple_mll_all = pd.Series([])\n"
     ]
    },
    {
     "data": {
      "image/png": "[encoded data removed]",
      "text/plain": [
       "<Figure size 432x288 with 1 Axes>"
      ]
     },
     "metadata": {
      "needs_background": "light"
     },
     "output_type": "display_data"
    }
   ],
   "source": [
    "time_window_ms = 3\n",
    "ripple_lengths_all = np.array([])\n",
    "ripple_mll_all = pd.Series([])\n",
    "for session in meta.Session_List:\n",
    "    ripple_lengths_all = np.append(ripple_lengths_all, ripple_lengths[str(session)])\n",
    "    max_ll = ripple_mc_results[time_window_ms][str(session)].results_dataframe[\"mll_model\"]\n",
    "    ripple_mll_all = ripple_mll_all.append(max_ll)\n",
    "\n",
    "plt.hist(ripple_lengths_all, alpha=.5, bins=np.linspace(0,200,30))\n",
    "plt.show()"
   ]
  },
  {
   "cell_type": "code",
   "execution_count": 8,
   "metadata": {},
   "outputs": [
    {
     "name": "stdout",
     "output_type": "stream",
     "text": [
      "25.0 42.0 66.0\n"
     ]
    }
   ],
   "source": [
    "ripple_lengths_sort = np.sort(ripple_lengths_all)\n",
    "n_ripples = len(ripple_lengths_all)\n",
    "q1 = ripple_lengths_sort[int(n_ripples/4)]\n",
    "q2 = ripple_lengths_sort[int(n_ripples/2)]\n",
    "q3 = ripple_lengths_sort[n_ripples - int(n_ripples/4)]\n",
    "print(q1, q2, q3)"
   ]
  },
  {
   "cell_type": "code",
   "execution_count": 9,
   "metadata": {},
   "outputs": [
    {
     "name": "stdout",
     "output_type": "stream",
     "text": [
      "710 770 739 761\n"
     ]
    }
   ],
   "source": [
    "n_groups = 4\n",
    "group_1 = ripple_mll_all[ripple_lengths_all<q1]\n",
    "group_2 = ripple_mll_all[(ripple_lengths_all>=q1) & (ripple_lengths_all<q2)]\n",
    "group_3 = ripple_mll_all[(ripple_lengths_all>=q2) & (ripple_lengths_all<q3)]\n",
    "group_4 = ripple_mll_all[(ripple_lengths_all>=q3)]\n",
    "\n",
    "print(len(group_1), len(group_2), len(group_3), len(group_4))"
   ]
  },
  {
   "cell_type": "code",
   "execution_count": 11,
   "metadata": {},
   "outputs": [
    {
     "data": {
      "image/png": "[encoded data removed]",
      "text/plain": [
       "<Figure size 1440x400 with 3 Axes>"
      ]
     },
     "metadata": {
      "needs_background": "light"
     },
     "output_type": "display_data"
    }
   ],
   "source": [
    "figure_width = 7.2\n",
    "figure_height = 2\n",
    "fig, ax = plt.subplots(1,3,figsize=(figure_width,figure_height), dpi=200)\n",
    "plt.subplots_adjust(left=.06, wspace=.55, right = .9, bottom=.4)\n",
    "footer = .25\n",
    "margin = .1\n",
    "\n",
    "colors = [\"blue\", \"green\", \"purple\", \"crimson\", 'orange']\n",
    "model_names_dict = {'diffusion': 'Diffusion', \n",
    "               'momentum': 'Momentum', \n",
    "               'stationary': 'Stationary', \n",
    "               'stationary_gaussian': 'Gaussian', \n",
    "               'random': 'Random'}\n",
    "model_names = [model_names_dict[model] for model in meta.MODELS_AS_STR]\n",
    "\n",
    "j = 0\n",
    "for i, time_window_ms in enumerate(time_window_ms_array):\n",
    "    p_models_mean = np.mean(random_effects_results[time_window_ms], axis=0)\n",
    "    p_models_sd = np.std(random_effects_results[time_window_ms], axis=0)\n",
    "    ax[j].bar(np.arange(meta.N_MODELS)+.21*i, p_models_mean, yerr=p_models_sd,\n",
    "            width=.2, label=f\"{time_window_ms} ms\", color=colors[i], alpha=.7, error_kw=dict(lw=.7, zorder=101))\n",
    "    for s in range(meta.N_SESSIONS):\n",
    "        ax[j].scatter(np.arange(meta.N_MODELS)+.21*i+(np.random.rand()-.5)/8, random_effects_results[time_window_ms][s], s=5, color='dimgray', zorder=100, marker='.', linewidths=0)\n",
    "    \n",
    "ax[j].set_xticks(np.arange(meta.N_MODELS)+.3)\n",
    "ax[j].set_ylim([0,1])\n",
    "ax[j].set_xticklabels(model_names, rotation=45, ha='right', fontsize=6)\n",
    "ax[j].set_ylabel(\"p(M|X)\")\n",
    "ax[j].legend(frameon=False, fontsize=5)\n",
    "ax[j].spines['top'].set_visible(False)\n",
    "ax[j].spines['right'].set_visible(False)\n",
    "\n",
    "j = 1\n",
    "time_window_ms = 3\n",
    "i = 0\n",
    "p_models_mean = np.mean(random_effects_results[time_window_ms], axis=0)\n",
    "p_models_sd = np.std(random_effects_results[time_window_ms], axis=0)\n",
    "ax[j].bar(np.arange(meta.N_MODELS)+.21*i, p_models_mean, yerr=p_models_sd,\n",
    "        width=.2, label=\"Random effects\", color=colors[i], alpha=.7, error_kw=dict(lw=.7, zorder=101))\n",
    "for s in range(meta.N_SESSIONS):\n",
    "    ax[j].scatter(np.arange(meta.N_MODELS)+.21*i+(np.random.rand()-.5)/8, random_effects_results[time_window_ms][s], s=5, color='dimgray', zorder=100, marker='.', linewidths=0)\n",
    "\n",
    "i = 1\n",
    "p_models_mean = np.mean(bayes_factor, axis=0)\n",
    "p_models_sd = np.std(bayes_factor, axis=0)\n",
    "ax[j].bar(np.arange(meta.N_MODELS)+.21*i, p_models_mean, yerr=p_models_sd,\n",
    "        width=.2, label=\"Fixed effects\", color=colors[i], alpha=.7, error_kw=dict(lw=.7, zorder=101))\n",
    "for s in range(meta.N_SESSIONS):\n",
    "    ax[j].scatter(np.arange(meta.N_MODELS)+.21*i+(np.random.rand()-.5)/8, bayes_factor[s], s=5, color='dimgray', zorder=100, marker='.', linewidths=0)\n",
    "\n",
    "i = 2\n",
    "p_models_mean = np.mean(max_ll_results[time_window_ms], axis=0)\n",
    "p_models_sd = np.std(max_ll_results[time_window_ms], axis=0)\n",
    "ax[j].bar(np.arange(meta.N_MODELS)+.21*i, p_models_mean, yerr=p_models_sd,\n",
    "        width=.2, label=\"Maximum\\nlog-likelihood\", color=colors[i], alpha=.7, error_kw=dict(lw=.7, zorder=101))\n",
    "for s in range(meta.N_SESSIONS):\n",
    "    ax[j].scatter(np.arange(meta.N_MODELS)+.21*i+(np.random.rand()-.5)/8, max_ll_results[time_window_ms][s], s=5, color='dimgray', zorder=100, marker='.', linewidths=0)\n",
    "\n",
    "\n",
    "    \n",
    "\n",
    "ax[j].set_xticks(np.arange(meta.N_MODELS)+.3)\n",
    "ax[j].set_ylim([0,1])\n",
    "ax[j].set_xticklabels(model_names, rotation=45, ha='right', fontsize=6)\n",
    "ax[j].set_ylabel(\"p(M|X) & fraction of SWRs\")\n",
    "ax[j].legend(frameon=False, loc=1, bbox_to_anchor=(1.1,1,0,0), fontsize=5)\n",
    "ax[j].spines['top'].set_visible(False)\n",
    "ax[j].spines['right'].set_visible(False)\n",
    "\n",
    "mc_by_swr_duration = np.zeros((n_groups, meta.N_MODELS))\n",
    "\n",
    "for i, group in enumerate([group_1, group_2, group_3, group_4]):\n",
    "    mean = group.value_counts()/np.sum(group.value_counts())\n",
    "    for model in meta.MODELS_AS_STR:\n",
    "        if model not in mean:\n",
    "            mean[model] = 0\n",
    "    mc_by_swr_duration[i] = mean[meta.MODELS_AS_STR]\n",
    "\n",
    "for i in range(meta.N_MODELS):\n",
    "    if i == 0:\n",
    "        bottom = np.zeros(n_groups)\n",
    "    elif i == 1:\n",
    "        bottom = mc_by_swr_duration[:,0]\n",
    "    else:\n",
    "        bottom = np.sum(mc_by_swr_duration[:,:i], axis=1)\n",
    "    ax[2].bar(np.arange(n_groups), mc_by_swr_duration[:,i], bottom=bottom,#, yerr=p_models_sd,\n",
    "            width=.4, label=model_names[i], color=colors[i], alpha=.7)\n",
    "    \n",
    "ax[2].set_xticks(np.arange(n_groups))\n",
    "ax[2].set_xlim([-.6,3.6])\n",
    "ax[2].set_ylim([0,1])\n",
    "ax[2].set_xticklabels(['q1', 'q2', 'q3', 'q4'], rotation=0, ha='right', fontsize=6)\n",
    "ax[2].set_xlabel('SWR duration quartiles')\n",
    "ax[2].set_ylabel(\"fracion SWRs\\nbest fit by model\")#, fontsize=18)\n",
    "ax[2].legend(frameon=False, bbox_to_anchor=(1,1,0,0), fontsize=5)\n",
    "ax[2].spines['top'].set_visible(False)\n",
    "ax[2].spines['right'].set_visible(False)\n",
    "\n",
    "\n",
    "ax[0].text(-.25,1.1, 'a', size=8, transform=ax[0].transAxes, fontweight='bold')\n",
    "ax[1].text(-.3,1.1, 'b', size=8, transform=ax[1].transAxes, fontweight='bold')\n",
    "ax[2].text(-.3,1.1, 'c', size=8, transform=ax[2].transAxes, fontweight='bold')\n",
    "\n",
    "plt.savefig(os.path.join(meta.FIGURES_PATH, \"FigureS1a-c.svg\"), dpi=500, transparent=True)\n",
    "\n",
    "rect = plt.Rectangle(\n",
    "    (0, 0), 1, 1, fill=False, color=\"k\", lw=.5, alpha=.2,\n",
    "    zorder=1000, transform=fig.transFigure, figure=fig\n",
    ")\n",
    "fig.patches.extend([rect])"
   ]
  },
  {
   "cell_type": "code",
   "execution_count": 12,
   "metadata": {},
   "outputs": [
    {
     "name": "stdout",
     "output_type": "stream",
     "text": [
      "time window (ms): 3\n",
      "[0. 1. 0. 0. 0.]\n",
      "[0. 1. 0. 0. 0.]\n",
      "[0. 1. 0. 0. 0.]\n",
      "[0. 1. 0. 0. 0.]\n",
      "[0. 1. 0. 0. 0.]\n",
      "[0. 1. 0. 0. 0.]\n",
      "[0. 1. 0. 0. 0.]\n",
      "[0. 1. 0. 0. 0.]\n",
      "time window (ms): 4\n",
      "[0. 1. 0. 0. 0.]\n",
      "[0. 1. 0. 0. 0.]\n",
      "[0. 1. 0. 0. 0.]\n",
      "[0. 1. 0. 0. 0.]\n",
      "[0. 1. 0. 0. 0.]\n",
      "[0. 1. 0. 0. 0.]\n",
      "[0. 1. 0. 0. 0.]\n",
      "[0. 1. 0. 0. 0.]\n",
      "time window (ms): 5\n",
      "[0. 1. 0. 0. 0.]\n",
      "[0. 1. 0. 0. 0.]\n",
      "[0. 1. 0. 0. 0.]\n",
      "[0. 1. 0. 0. 0.]\n",
      "[0. 1. 0. 0. 0.]\n",
      "[0. 1. 0. 0. 0.]\n",
      "[0. 1. 0. 0. 0.]\n",
      "[0. 1. 0. 0. 0.]\n"
     ]
    }
   ],
   "source": [
    "for time_window_ms in time_window_ms_array:\n",
    "    print(f\"time window (ms): {time_window_ms}\")\n",
    "    for i, session in enumerate(meta.Session_List):\n",
    "        print(mc_results[time_window_ms][str(session)].random_effects_results['p_exceedance'])"
   ]
  }
 ],
 "metadata": {
  "kernelspec": {
   "display_name": "replay_structure_kernel",
   "language": "python",
   "name": "replay_structure_kernel"
  },
  "language_info": {
   "codemirror_mode": {
    "name": "ipython",
    "version": 3
   },
   "file_extension": ".py",
   "mimetype": "text/x-python",
   "name": "python",
   "nbconvert_exporter": "python",
   "pygments_lexer": "ipython3",
   "version": "3.8.2"
  }
 },
 "nbformat": 4,
 "nbformat_minor": 4
}
